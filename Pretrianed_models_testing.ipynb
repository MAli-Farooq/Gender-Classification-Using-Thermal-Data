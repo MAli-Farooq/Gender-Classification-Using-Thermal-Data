{
 "cells": [
  {
   "cell_type": "code",
   "execution_count": 1,
   "metadata": {},
   "outputs": [],
   "source": [
    "import torch, torchvision\n",
    "from torchvision import datasets, models, transforms\n",
    "import torch.nn as nn\n",
    "import torch.optim as optim\n",
    "from torch.utils.data import DataLoader\n",
    "import time\n",
    "from torchsummary import summary\n",
    "from torch.optim import lr_scheduler\n",
    "import numpy as np\n",
    "import matplotlib.pyplot as plt\n",
    "import os\n",
    "#from efficientnet_pytorch import EfficientNet\n",
    "\n",
    "from PIL import Image"
   ]
  },
  {
   "cell_type": "code",
   "execution_count": 2,
   "metadata": {},
   "outputs": [],
   "source": [
    "from __future__ import division"
   ]
  },
  {
   "cell_type": "code",
   "execution_count": 3,
   "metadata": {},
   "outputs": [],
   "source": [
    "# Applying Transforms to the Data\n",
    "image_transforms = { \n",
    "    'train': transforms.Compose([\n",
    "        transforms.RandomResizedCrop(size=256, scale=(0.8, 1.0)),\n",
    "        transforms.RandomRotation(degrees=15),\n",
    "        transforms.RandomHorizontalFlip(),\n",
    "        transforms.CenterCrop(size=224),\n",
    "        transforms.ToTensor(),\n",
    "        transforms.Normalize([0.485, 0.456, 0.406],\n",
    "                             [0.229, 0.224, 0.225])\n",
    "    ]),\n",
    "    'valid': transforms.Compose([\n",
    "        transforms.Resize(size=256),\n",
    "        transforms.CenterCrop(size=224),\n",
    "        transforms.ToTensor(),\n",
    "        transforms.Normalize([0.485, 0.456, 0.406],\n",
    "                             [0.229, 0.224, 0.225])\n",
    "    ]),\n",
    "    'test': transforms.Compose([\n",
    "        transforms.Resize(size=256),\n",
    "        transforms.CenterCrop(size=224),\n",
    "        transforms.ToTensor(),\n",
    "        transforms.Normalize([0.485, 0.456, 0.406],\n",
    "                             [0.229, 0.224, 0.225])\n",
    "    ])\n",
    "}"
   ]
  },
  {
   "cell_type": "code",
   "execution_count": 4,
   "metadata": {},
   "outputs": [
    {
     "name": "stdout",
     "output_type": "stream",
     "text": [
      "2\n",
      "{0: 'FEMALE', 1: 'MALE'}\n"
     ]
    }
   ],
   "source": [
    "# Load the Data\n",
    "\n",
    "# Set train and valid directory paths\n",
    "\n",
    "dataset = 'Datasets/Model (Training + Validation + Test) Data'\n",
    "\n",
    "train_directory = os.path.join(dataset, 'train')\n",
    "valid_directory = os.path.join(dataset, 'valid')\n",
    "test_directory = os.path.join(dataset, 'test')\n",
    "\n",
    "# Batch size\n",
    "bs = 32\n",
    "\n",
    "# Number of classes\n",
    "#num_classes = len(os.listdir(valid_directory))-1  #10#2#257\n",
    "#num_classes = len(os.listdir(valid_directory)) #10#2#257\n",
    "num_classes = 2\n",
    "print(num_classes)\n",
    "\n",
    "# Load Data from folders\n",
    "data = {\n",
    "    'train': datasets.ImageFolder(root=train_directory, transform=image_transforms['train']),\n",
    "    'valid': datasets.ImageFolder(root=valid_directory, transform=image_transforms['valid']),\n",
    "    'test': datasets.ImageFolder(root=test_directory, transform=image_transforms['test'])\n",
    "}\n",
    "\n",
    "# Get a mapping of the indices to the class names, in order to see the output classes of the test images.\n",
    "idx_to_class = {v: k for k, v in data['train'].class_to_idx.items()}\n",
    "print(idx_to_class)\n",
    "\n",
    "# Size of Data, to be used for calculating Average Loss and Accuracy\n",
    "train_data_size = len(data['train'])\n",
    "valid_data_size = len(data['valid'])\n",
    "test_data_size = len(data['test'])\n",
    "\n",
    "# Create iterators for the Data loaded using DataLoader module\n",
    "train_data_loader = DataLoader(data['train'], batch_size=bs, shuffle=True)\n",
    "valid_data_loader = DataLoader(data['valid'], batch_size=bs, shuffle=True)\n",
    "test_data_loader = DataLoader(data['test'], batch_size=bs, shuffle=True)\n",
    "\n",
    "items = iter(train_data_loader)\n",
    "image, label = items.next()"
   ]
  },
  {
   "cell_type": "code",
   "execution_count": 5,
   "metadata": {},
   "outputs": [
    {
     "data": {
      "text/plain": [
       "(1341, 600, 90)"
      ]
     },
     "execution_count": 5,
     "metadata": {},
     "output_type": "execute_result"
    }
   ],
   "source": [
    "#train_data_size and valid_data_size contains data from tufts thermal dataset \n",
    "# test data folder contains images from carl thermal dataset + Lab data\n",
    "train_data_size, valid_data_size, test_data_size"
   ]
  },
  {
   "cell_type": "code",
   "execution_count": 12,
   "metadata": {},
   "outputs": [],
   "source": [
    "def show_transformed_image(image):\n",
    "    np_image = image.numpy()\n",
    "    plt.figure(figsize=(40,40))\n",
    "    plt.imshow(np.transpose(np_image, (1, 2, 0)))"
   ]
  },
  {
   "cell_type": "code",
   "execution_count": 13,
   "metadata": {},
   "outputs": [],
   "source": [
    "from torchvision.utils import make_grid\n",
    "show_transformed_image(make_grid(image))"
   ]
  },
  {
   "cell_type": "code",
   "execution_count": 14,
   "metadata": {},
   "outputs": [
    {
     "name": "stdout",
     "output_type": "stream",
     "text": [
      "81\n",
      "90\n",
      "The total test accuracy of Densenet 201 model is\n",
      "90.0\n"
     ]
    }
   ],
   "source": [
    "import torch\n",
    "\n",
    "test_acc_count = 0\n",
    "for k, (test_images, test_labels) in enumerate(test_data_loader):\n",
    "    model = torch.load('Pretrained_Models/DenseNet-201.pt')\n",
    "    model.cpu()\n",
    "    test_outputs = model(test_images)\n",
    "    _, prediction = torch.max(test_outputs.data, 1)\n",
    "    test_acc_count += torch.sum(prediction == test_labels.data).item()\n",
    "    \n",
    "a = test_acc_count\n",
    "print (a) \n",
    "\n",
    "b = test_data_size\n",
    "print (b)\n",
    "test_accuracy = (a / b)*100\n",
    "\n",
    "print ('The total test accuracy of Densenet 201 model is')\n",
    "print (test_accuracy)"
   ]
  },
  {
   "cell_type": "code",
   "execution_count": 14,
   "metadata": {},
   "outputs": [
    {
     "name": "stdout",
     "output_type": "stream",
     "text": [
      "74\n",
      "90\n",
      "The total test accuracy of Densenet-121 model is\n",
      "82.2222222222\n"
     ]
    }
   ],
   "source": [
    "import torch\n",
    "\n",
    "test_acc_count = 0\n",
    "for k, (test_images, test_labels) in enumerate(test_data_loader):\n",
    "    model = torch.load('Pretrained_Models/DenseNet-121.pt')\n",
    "    model.cpu()\n",
    "    test_outputs = model(test_images)\n",
    "    _, prediction = torch.max(test_outputs.data, 1)\n",
    "    test_acc_count += torch.sum(prediction == test_labels.data).item()\n",
    "    \n",
    "a = test_acc_count\n",
    "print (a) \n",
    "\n",
    "b = test_data_size\n",
    "print (b)\n",
    "test_accuracy = (a / b)*100\n",
    "\n",
    "print ('The total test accuracy of Densenet-121 model is')\n",
    "print (test_accuracy)"
   ]
  },
  {
   "cell_type": "code",
   "execution_count": 15,
   "metadata": {},
   "outputs": [
    {
     "name": "stderr",
     "output_type": "stream",
     "text": [
      "/home/ali/project/local/lib/python2.7/site-packages/torch/serialization.py:493: SourceChangeWarning: source code of class 'torchvision.models.inception.Inception3' has changed. you can retrieve the original source code by accessing the object's source attribute or set `torch.nn.Module.dump_patches = True` and use the patch tool to revert the changes.\n",
      "  warnings.warn(msg, SourceChangeWarning)\n",
      "/home/ali/project/local/lib/python2.7/site-packages/torch/serialization.py:493: SourceChangeWarning: source code of class 'torchvision.models.inception.InceptionA' has changed. you can retrieve the original source code by accessing the object's source attribute or set `torch.nn.Module.dump_patches = True` and use the patch tool to revert the changes.\n",
      "  warnings.warn(msg, SourceChangeWarning)\n",
      "/home/ali/project/local/lib/python2.7/site-packages/torch/serialization.py:493: SourceChangeWarning: source code of class 'torchvision.models.inception.InceptionB' has changed. you can retrieve the original source code by accessing the object's source attribute or set `torch.nn.Module.dump_patches = True` and use the patch tool to revert the changes.\n",
      "  warnings.warn(msg, SourceChangeWarning)\n",
      "/home/ali/project/local/lib/python2.7/site-packages/torch/serialization.py:493: SourceChangeWarning: source code of class 'torchvision.models.inception.InceptionC' has changed. you can retrieve the original source code by accessing the object's source attribute or set `torch.nn.Module.dump_patches = True` and use the patch tool to revert the changes.\n",
      "  warnings.warn(msg, SourceChangeWarning)\n",
      "/home/ali/project/local/lib/python2.7/site-packages/torch/serialization.py:493: SourceChangeWarning: source code of class 'torchvision.models.inception.InceptionAux' has changed. you can retrieve the original source code by accessing the object's source attribute or set `torch.nn.Module.dump_patches = True` and use the patch tool to revert the changes.\n",
      "  warnings.warn(msg, SourceChangeWarning)\n",
      "/home/ali/project/local/lib/python2.7/site-packages/torch/serialization.py:493: SourceChangeWarning: source code of class 'torchvision.models.inception.InceptionD' has changed. you can retrieve the original source code by accessing the object's source attribute or set `torch.nn.Module.dump_patches = True` and use the patch tool to revert the changes.\n",
      "  warnings.warn(msg, SourceChangeWarning)\n",
      "/home/ali/project/local/lib/python2.7/site-packages/torch/serialization.py:493: SourceChangeWarning: source code of class 'torchvision.models.inception.InceptionE' has changed. you can retrieve the original source code by accessing the object's source attribute or set `torch.nn.Module.dump_patches = True` and use the patch tool to revert the changes.\n",
      "  warnings.warn(msg, SourceChangeWarning)\n"
     ]
    },
    {
     "name": "stdout",
     "output_type": "stream",
     "text": [
      "79\n",
      "90\n",
      "The total test accuracy of Inception v3 model is\n",
      "87.7777777778\n"
     ]
    }
   ],
   "source": [
    "import torch\n",
    "\n",
    "test_acc_count = 0\n",
    "for k, (test_images, test_labels) in enumerate(test_data_loader):\n",
    "    model = torch.load('Pretrained_Models/Inception-V3.pt')\n",
    "    model.cpu()\n",
    "    test_outputs = model(test_images)\n",
    "    _, prediction = torch.max(test_outputs.data, 1)\n",
    "    test_acc_count += torch.sum(prediction == test_labels.data).item()\n",
    "    \n",
    "a = test_acc_count\n",
    "print (a) \n",
    "\n",
    "b = test_data_size\n",
    "print (b)\n",
    "test_accuracy = (a / b)*100\n",
    "\n",
    "print ('The total test accuracy of Inception v3 model is')\n",
    "print (test_accuracy)"
   ]
  },
  {
   "cell_type": "code",
   "execution_count": 16,
   "metadata": {},
   "outputs": [
    {
     "name": "stderr",
     "output_type": "stream",
     "text": [
      "/home/ali/project/local/lib/python2.7/site-packages/torch/serialization.py:493: SourceChangeWarning: source code of class 'torchvision.models.mobilenet.MobileNetV2' has changed. you can retrieve the original source code by accessing the object's source attribute or set `torch.nn.Module.dump_patches = True` and use the patch tool to revert the changes.\n",
      "  warnings.warn(msg, SourceChangeWarning)\n"
     ]
    },
    {
     "name": "stdout",
     "output_type": "stream",
     "text": [
      "82\n",
      "90\n",
      "The total test accuracy of the Mobilenet model is\n",
      "91.1111111111\n"
     ]
    }
   ],
   "source": [
    "import torch\n",
    "\n",
    "test_acc_count = 0\n",
    "for k, (test_images, test_labels) in enumerate(test_data_loader):\n",
    "    model = torch.load('Pretrained_Models/MobileNet-V2.pt')\n",
    "    model.cpu()\n",
    "    test_outputs = model(test_images)\n",
    "    _, prediction = torch.max(test_outputs.data, 1)\n",
    "    test_acc_count += torch.sum(prediction == test_labels.data).item()\n",
    "    \n",
    "a = test_acc_count\n",
    "print (a) \n",
    "\n",
    "b = test_data_size\n",
    "print (b)\n",
    "test_accuracy = (a / b)*100\n",
    "\n",
    "print ('The total test accuracy of the Mobilenet model is')\n",
    "print (test_accuracy)"
   ]
  },
  {
   "cell_type": "code",
   "execution_count": 17,
   "metadata": {},
   "outputs": [
    {
     "name": "stdout",
     "output_type": "stream",
     "text": [
      "77\n",
      "90\n",
      "The total test accuracy of Alexnet model is\n",
      "85.5555555556\n"
     ]
    }
   ],
   "source": [
    "import torch\n",
    "\n",
    "test_acc_count = 0\n",
    "for k, (test_images, test_labels) in enumerate(test_data_loader):\n",
    "    model = torch.load('Pretrained_Models/AlexNet.pt')\n",
    "    model.cpu()\n",
    "    test_outputs = model(test_images)\n",
    "    _, prediction = torch.max(test_outputs.data, 1)\n",
    "    test_acc_count += torch.sum(prediction == test_labels.data).item()\n",
    "    \n",
    "a = test_acc_count\n",
    "print (a) \n",
    "\n",
    "b = test_data_size\n",
    "print (b)\n",
    "test_accuracy = (a / b)*100\n",
    "\n",
    "print ('The total test accuracy of Alexnet model is')\n",
    "print (test_accuracy)"
   ]
  },
  {
   "cell_type": "code",
   "execution_count": 18,
   "metadata": {},
   "outputs": [
    {
     "name": "stdout",
     "output_type": "stream",
     "text": [
      "76\n",
      "90\n",
      "The total test accuracy of Vgg_19 model is\n",
      "84.4444444444\n"
     ]
    }
   ],
   "source": [
    "import torch\n",
    "\n",
    "test_acc_count = 0\n",
    "for k, (test_images, test_labels) in enumerate(test_data_loader):\n",
    "    model = torch.load('Pretrained_Models/VGG-19.pt')\n",
    "    model.cpu()\n",
    "    test_outputs = model(test_images)\n",
    "    _, prediction = torch.max(test_outputs.data, 1)\n",
    "    test_acc_count += torch.sum(prediction == test_labels.data).item()\n",
    "    \n",
    "a = test_acc_count\n",
    "print (a) \n",
    "\n",
    "b = test_data_size\n",
    "print (b)\n",
    "test_accuracy = (a / b)*100\n",
    "\n",
    "print ('The total test accuracy of Vgg_19 model is')\n",
    "print (test_accuracy)"
   ]
  },
  {
   "cell_type": "code",
   "execution_count": 19,
   "metadata": {},
   "outputs": [
    {
     "name": "stderr",
     "output_type": "stream",
     "text": [
      "/home/ali/project/local/lib/python2.7/site-packages/torch/serialization.py:493: SourceChangeWarning: source code of class 'torchvision.models.resnet.ResNet' has changed. you can retrieve the original source code by accessing the object's source attribute or set `torch.nn.Module.dump_patches = True` and use the patch tool to revert the changes.\n",
      "  warnings.warn(msg, SourceChangeWarning)\n",
      "/home/ali/project/local/lib/python2.7/site-packages/torch/serialization.py:493: SourceChangeWarning: source code of class 'torchvision.models.resnet.Bottleneck' has changed. you can retrieve the original source code by accessing the object's source attribute or set `torch.nn.Module.dump_patches = True` and use the patch tool to revert the changes.\n",
      "  warnings.warn(msg, SourceChangeWarning)\n"
     ]
    },
    {
     "name": "stdout",
     "output_type": "stream",
     "text": [
      "80\n",
      "90\n",
      "The total test accuracy of Resnet_50 model is\n",
      "88.8888888889\n"
     ]
    }
   ],
   "source": [
    "import torch\n",
    "\n",
    "\n",
    "test_acc_count = 0\n",
    "for k, (test_images, test_labels) in enumerate(test_data_loader):\n",
    "    model = torch.load('Pretrained_Models/ResNet-50.pt')\n",
    "    model.cpu()\n",
    "    test_outputs = model(test_images)\n",
    "    _, prediction = torch.max(test_outputs.data, 1)\n",
    "    test_acc_count += torch.sum(prediction == test_labels.data).item()\n",
    "    \n",
    "a = test_acc_count\n",
    "print (a) \n",
    "\n",
    "b = test_data_size\n",
    "print (b)\n",
    "test_accuracy = (a / b)*100\n",
    "\n",
    "print ('The total test accuracy of Resnet_50 model is')\n",
    "print (test_accuracy)"
   ]
  },
  {
   "cell_type": "code",
   "execution_count": 20,
   "metadata": {},
   "outputs": [
    {
     "name": "stdout",
     "output_type": "stream",
     "text": [
      "76\n",
      "90\n",
      "The total test accuracy of Resnet_101 model is\n",
      "84.4444444444\n"
     ]
    }
   ],
   "source": [
    "import torch\n",
    "\n",
    "test_acc_count = 0\n",
    "for k, (test_images, test_labels) in enumerate(test_data_loader):\n",
    "    model = torch.load('Pretrained_Models/ResNet-101.pt')\n",
    "    model.cpu()\n",
    "    test_outputs = model(test_images)\n",
    "    _, prediction = torch.max(test_outputs.data, 1)\n",
    "    test_acc_count += torch.sum(prediction == test_labels.data).item()\n",
    "    \n",
    "a = test_acc_count\n",
    "print (a) \n",
    "\n",
    "b = test_data_size\n",
    "print (b)\n",
    "test_accuracy = (a / b)*100\n",
    "\n",
    "print ('The total test accuracy of Resnet_101 model is')\n",
    "print (test_accuracy)"
   ]
  },
  {
   "cell_type": "code",
   "execution_count": 27,
   "metadata": {},
   "outputs": [],
   "source": [
    "def computeTestSetAccuracy(model, loss_criterion):\n",
    "    '''\n",
    "    Function to compute the accuracy on the test set\n",
    "    Parameters\n",
    "        :param model: Model to test\n",
    "        :param loss_criterion: Loss Criterion to minimize\n",
    "    '''\n",
    "\n",
    "    #device = torch.device(\"cuda:0\" if torch.cuda.is_available() else \"cpu\")\n",
    "    device = torch.device(\"cpu\")\n",
    "\n",
    "    test_acc = 0.0\n",
    "    test_loss = 0.0\n",
    "\n",
    "    # Validation - No gradient tracking needed\n",
    "    with torch.no_grad():\n",
    "\n",
    "        # Set to evaluation mode\n",
    "        model.eval()\n",
    "\n",
    "        # Validation loop\n",
    "        for j, (inputs, labels) in enumerate(test_data_loader):\n",
    "            inputs = inputs.to(device)\n",
    "            labels = labels.to(device)\n",
    "\n",
    "            # Forward pass - compute outputs on input data using the model\n",
    "            outputs = model(inputs)\n",
    "\n",
    "            # Compute loss\n",
    "            loss = loss_criterion(outputs, labels)\n",
    "\n",
    "            # Compute the total loss for the batch and add it to valid_loss\n",
    "            test_loss += loss.item() * inputs.size(0)\n",
    "\n",
    "            # Calculate validation accuracy\n",
    "            ret, predictions = torch.max(outputs.data, 1)\n",
    "            correct_counts = predictions.eq(labels.data.view_as(predictions))\n",
    "\n",
    "            # Convert correct_counts to float and then compute the mean\n",
    "            acc = torch.mean(correct_counts.type(torch.FloatTensor))\n",
    "\n",
    "            # Compute total accuracy in the whole batch and add to valid_acc\n",
    "            test_acc += acc.item() * inputs.size(0)\n",
    "\n",
    "            print(\"Test Batch number: {:03d}, Test: Loss: {:.4f}, Accuracy: {:.4f}\".format(j, loss.item(), acc.item()))\n",
    "\n",
    "    # Find average test loss and test accuracy\n",
    "    avg_test_loss = test_loss/test_data_size \n",
    "    avg_test_acc = test_acc/test_data_size\n",
    "\n",
    "    print(\"Test accuracy : \" + str(avg_test_acc))"
   ]
  },
  {
   "cell_type": "code",
   "execution_count": 31,
   "metadata": {},
   "outputs": [],
   "source": [
    "def predict(model, test_image_name):\n",
    "    '''\n",
    "    Function to predict the class of a single test image\n",
    "    Parameters\n",
    "        :param model: Model to test\n",
    "        :param test_image_name: Test image\n",
    "\n",
    "    '''\n",
    "    \n",
    "    transform = image_transforms['test']\n",
    "\n",
    "    test_image = Image.open(test_image_name)\n",
    "    plt.imshow(test_image)\n",
    "    \n",
    "    test_image_tensor = transform(test_image)\n",
    "    #test_image_tensor = test_image_tensor.view(1, 3, 224, 224)\n",
    "\n",
    "    if torch.cuda.is_available():\n",
    "        test_image_tensor = test_image_tensor.view(1, 3, 224, 224).cuda()\n",
    "    else:\n",
    "        test_image_tensor = test_image_tensor.view(1, 3, 224, 224)\n",
    "    \n",
    "            \n",
    "    with torch.no_grad():\n",
    "        model.eval()\n",
    "        # Model outputs log probabilities\n",
    "        out = model(test_image_tensor)\n",
    "        ps = torch.exp(out)\n",
    "        topk, topclass = ps.topk(2, dim=1)\n",
    "        for i in range(1):\n",
    "            print(\"Output class :  \", idx_to_class[topclass.cpu().numpy()[0][0]], \", Score: \", topk.cpu().numpy()[0][i]*0.4)\n",
    "            #print(\"Output class :  \", \"FEMALE\", \", Score: \", 0.93432104)\n"
   ]
  },
  {
   "cell_type": "code",
   "execution_count": 34,
   "metadata": {},
   "outputs": [],
   "source": [
    "def predict(model, test_image_name):\n",
    "    '''\n",
    "    Function to predict the class of a single test image\n",
    "    Parameters\n",
    "        :param model: Model to test\n",
    "        :param test_image_name: Test image\n",
    "\n",
    "    '''\n",
    "    \n",
    "    transform = image_transforms['test']\n",
    "\n",
    "    test_image = Image.open(test_image_name)\n",
    "    plt.imshow(test_image)\n",
    "    \n",
    "    test_image_tensor = transform(test_image)\n",
    "\n",
    "    if torch.cuda.is_available():\n",
    "        test_image_tensor = test_image_tensor.view(1, 3, 224, 224).cuda()\n",
    "    else:\n",
    "        test_image_tensor = test_image_tensor.view(1, 3, 224, 224)\n",
    "    \n",
    "    with torch.no_grad():\n",
    "        model.eval()\n",
    "        # Model outputs log probabilities\n",
    "        out = model(test_image_tensor)\n",
    "        ps = torch.exp(out)\n",
    "        topk, topclass = ps.topk(2, dim=1)\n",
    "        for i in range(1):\n",
    "            print(\"Predcition\", i+1, \":\", idx_to_class[topclass.cpu().numpy()[0][i]])"
   ]
  },
  {
   "cell_type": "code",
   "execution_count": 36,
   "metadata": {},
   "outputs": [
    {
     "data": {
      "image/png": "[encoded data removed]",
      "text/plain": [
       "<Figure size 432x288 with 1 Axes>"
      ]
     },
     "metadata": {
      "needs_background": "light"
     },
     "output_type": "display_data"
    },
    {
     "name": "stdout",
     "output_type": "stream",
     "text": [
      "('Predcition', 1, ':', 'FEMALE')\n"
     ]
    }
   ],
   "source": [
    "# Script for testing a model on a particular test image\n",
    "from PIL import Image\n",
    "\n",
    "dataset = 'male-female'\n",
    "model = torch.load('Pretrained_Models/DenseNet-201.pt')\n",
    "plt.ioff()\n",
    "plt.show()\n",
    "\n",
    "predict(model, 'Datasets/Model (Training + Validation + Test) Data/test/FEMALE/4.jpg')\n",
    "\n",
    "\n",
    "# Load Data from folders\n",
    "#computeTestSetAccuracy(model, loss_func)\n",
    "        "
   ]
  }
 ],
 "metadata": {
  "kernelspec": {
   "display_name": "Python 3",
   "language": "python",
   "name": "python3"
  },
  "language_info": {
   "codemirror_mode": {
    "name": "ipython",
    "version": 2
   },
   "file_extension": ".py",
   "mimetype": "text/x-python",
   "name": "python",
   "nbconvert_exporter": "python",
   "pygments_lexer": "ipython2",
   "version": "2.7.15+"
  }
 },
 "nbformat": 4,
 "nbformat_minor": 2
}
